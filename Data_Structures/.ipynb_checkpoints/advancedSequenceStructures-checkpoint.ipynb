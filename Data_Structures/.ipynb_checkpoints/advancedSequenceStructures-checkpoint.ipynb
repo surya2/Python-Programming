{
 "cells": [
  {
   "cell_type": "markdown",
   "metadata": {},
   "source": [
    "# Sets\n",
    "### - Ordered List\n",
    "### - No Duplicate Values\n",
    "### - Very fast access to values because there are no duplicate values to compare against. Therefore there is no list iteration\n",
    "### - Uses hash function and value to identify element in list"
   ]
  },
  {
   "cell_type": "code",
   "execution_count": 2,
   "metadata": {},
   "outputs": [
    {
     "name": "stdout",
     "output_type": "stream",
     "text": [
      "{2, 3, 4, 6}\n"
     ]
    }
   ],
   "source": [
    "x = {3, 2, 4, 6, 3, 6} #Curly braces for set\n",
    "print(x)"
   ]
  },
  {
   "cell_type": "code",
   "execution_count": 3,
   "metadata": {},
   "outputs": [],
   "source": [
    "y = set() #Empty set"
   ]
  },
  {
   "cell_type": "code",
   "execution_count": 4,
   "metadata": {},
   "outputs": [
    {
     "name": "stdout",
     "output_type": "stream",
     "text": [
      "{2, 3, 4, 5, 7}\n"
     ]
    }
   ],
   "source": [
    "list1 = [3, 4, 5, 7, 3, 2, 2]\n",
    "set1 = set(list1)\n",
    "print(set1)"
   ]
  },
  {
   "cell_type": "code",
   "execution_count": 5,
   "metadata": {},
   "outputs": [
    {
     "name": "stdout",
     "output_type": "stream",
     "text": [
      "{2, 3, 4, 5, 7}\n",
      "{2, 3, 4, 5, 6, 7}\n",
      "{2, 4, 5, 6, 7}\n",
      "5\n",
      "True\n",
      "2 {4, 5, 6, 7}\n",
      "set()\n"
     ]
    }
   ],
   "source": [
    "x = {3, 2, 4, 5, 7}\n",
    "print(x)\n",
    "x.add(6)\n",
    "print(x)\n",
    "\n",
    "x.remove(3)\n",
    "print(x)\n",
    "\n",
    "#Get length of set x\n",
    "print(len(x))\n",
    "\n",
    "#checking memebership\n",
    "print(9 not in x)\n",
    "\n",
    "#pop random item from set x\n",
    "print(x.pop(), x)\n",
    "\n",
    "#deleting all items from set x\n",
    "x.clear()\n",
    "print(x)"
   ]
  },
  {
   "cell_type": "markdown",
   "metadata": {},
   "source": [
    "### Mathematical operations with Sets"
   ]
  },
  {
   "cell_type": "code",
   "execution_count": 8,
   "metadata": {},
   "outputs": [
    {
     "name": "stdout",
     "output_type": "stream",
     "text": [
      "{8, 5, 6}\n",
      "{2, 3, 4, 5, 6, 8, 9, 10}\n",
      "{2, 3, 4, 9, 10}\n",
      "{2, 3}\n",
      "False\n",
      "False\n"
     ]
    }
   ],
   "source": [
    "x = {3, 2, 5, 6, 5, 8, 8}\n",
    "y = {4, 5, 6, 8, 9, 10, 5}\n",
    "\n",
    "print(x & y)\n",
    "print(x | y)\n",
    "print(x ^ y)\n",
    "print(x - y)\n",
    "print(x <= y)\n",
    "print(x >= y)"
   ]
  },
  {
   "cell_type": "markdown",
   "metadata": {},
   "source": [
    "# Dictionaries"
   ]
  },
  {
   "cell_type": "markdown",
   "metadata": {},
   "source": [
    "### - Key Value pairs\n",
    "### - Associative Array\n",
    "### - Unordered"
   ]
  },
  {
   "cell_type": "code",
   "execution_count": 12,
   "metadata": {},
   "outputs": [
    {
     "name": "stdout",
     "output_type": "stream",
     "text": [
      "{'henry': 12, 'sam': 11, 'Mark': 21} <class 'dict'>\n",
      "{'corn': 3.25, 'chicken': 12.99, 'onions': 7.99} <class 'dict'>\n",
      "{'soccer': 3000000000, 'circket': 2000000000, 'tennis': 1000000000} <class 'dict'>\n"
     ]
    }
   ],
   "source": [
    "dict1 = {'henry':12, 'sam':11, 'Mark':21}\n",
    "print(dict1, type(dict1))\n",
    "dict2 = dict([('corn', 3.25),('chicken', 12.99),('onions', 7.99)])\n",
    "print(dict2, type(dict2))\n",
    "dict3 = dict(soccer=3*10**9, circket=2*10**9, tennis=1*10**9)\n",
    "print(dict3, type(dict3))"
   ]
  },
  {
   "cell_type": "markdown",
   "metadata": {},
   "source": [
    "### Operations with Dictionaries"
   ]
  },
  {
   "cell_type": "code",
   "execution_count": 13,
   "metadata": {},
   "outputs": [
    {
     "name": "stdout",
     "output_type": "stream",
     "text": [
      "{'corn': 3.25, 'chicken': 12.99, 'onions': 7.99, 'shrimp': 5.99}\n",
      "{'sam': 11, 'Mark': 21}\n",
      "3\n",
      "{}\n"
     ]
    }
   ],
   "source": [
    "dict2['shrimp']=5.99 #adds shrimp and its key value pair to dict3 dictionary. If there already is a shrimp, then it will update its value\n",
    "print(dict2)\n",
    "\n",
    "del(dict1['henry']) #removes the henry element and its key value pair\n",
    "print(dict1)\n",
    "\n",
    "print(len(dict3))\n",
    "\n",
    "dict1.clear() #clearing the list elements\n",
    "print(dict1)\n",
    "\n",
    "del(dict1) #deleting the list from memory\n"
   ]
  },
  {
   "cell_type": "markdown",
   "metadata": {},
   "source": [
    "### Parts of a Dictionary structure"
   ]
  },
  {
   "cell_type": "code",
   "execution_count": 14,
   "metadata": {},
   "outputs": [
    {
     "name": "stdout",
     "output_type": "stream",
     "text": [
      "dict_keys(['corn', 'chicken', 'onions', 'shrimp'])\n",
      "dict_values([3.25, 12.99, 7.99, 5.99])\n",
      "dict_items([('corn', 3.25), ('chicken', 12.99), ('onions', 7.99), ('shrimp', 5.99)])\n",
      "False\n",
      "True\n"
     ]
    }
   ],
   "source": [
    "print(dict2.keys())\n",
    "print(dict2.values())\n",
    "print(dict2.items())\n",
    "\n",
    "#checking membership\n",
    "print('beef' in dict2) #checks the keys for dict2\n",
    "\n",
    "#checking membership among values\n",
    "print(3.25 in dict2.values())"
   ]
  },
  {
   "cell_type": "markdown",
   "metadata": {},
   "source": [
    "### Iterating through dictionary elements"
   ]
  },
  {
   "cell_type": "code",
   "execution_count": null,
   "metadata": {},
   "outputs": [],
   "source": [
    "for keys in dict2:\n",
    "    print(key, dict2[key])\n",
    "    \n",
    "print(\" \")\n",
    "\n",
    "for key, value in dict2:\n",
    "    print(key, value)"
   ]
  }
 ],
 "metadata": {
  "kernelspec": {
   "display_name": "Python 3",
   "language": "python",
   "name": "python3"
  },
  "language_info": {
   "codemirror_mode": {
    "name": "ipython",
    "version": 3
   },
   "file_extension": ".py",
   "mimetype": "text/x-python",
   "name": "python",
   "nbconvert_exporter": "python",
   "pygments_lexer": "ipython3",
   "version": "3.6.7"
  }
 },
 "nbformat": 4,
 "nbformat_minor": 2
}
